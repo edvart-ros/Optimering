{
 "cells": [
  {
   "cell_type": "code",
   "execution_count": 1,
   "metadata": {},
   "outputs": [],
   "source": [
    "import numpy as np\n",
    "import time"
   ]
  },
  {
   "cell_type": "code",
   "execution_count": 2,
   "metadata": {},
   "outputs": [],
   "source": [
    "def create_table(n, dist_min, dist_max):\n",
    "    table = np.zeros((n, n))\n",
    "    for i in range(n):\n",
    "        for j in range(n):\n",
    "            if i != j:\n",
    "                dist = np.random.randint(dist_min, dist_max)\n",
    "                table[i, j] = dist\n",
    "                table[j, i] = dist\n",
    "    return table\n",
    "\n",
    "def get_cost(trip, table):\n",
    "    cost = 0\n",
    "    for i in range(len(trip)-1):\n",
    "        dist = table[trip[i], trip[i+1]]\n",
    "        cost += dist\n",
    "    return cost\n",
    "\n",
    "\n",
    "def random_solve_salesman(table):\n",
    "    n = len(table)\n",
    "    rand_trip = [-1]*(n+1)\n",
    "    rand_trip[0] = np.random.randint(0, n)\n",
    "    for i in range(len(rand_trip)-2):\n",
    "        random_city = np.random.randint(0, n)\n",
    "        while random_city in rand_trip:\n",
    "            random_city = np.random.randint(0, n)\n",
    "        rand_trip[i+1] = random_city\n",
    "    rand_trip[-1] = rand_trip[0]\n",
    "    return rand_trip\n",
    "\n",
    "def greedy_solve_salesman(table):\n",
    "    n = len(table)\n",
    "    greedy_trip = [-1]*(n+1)\n",
    "    greedy_trip[0] = np.random.randint(0, n)\n",
    "\n",
    "    for i in range(len(greedy_trip)-2):\n",
    "        current_city = greedy_trip[i]\n",
    "        closest_distance = np.inf\n",
    "        for trial_city in range(0, n):\n",
    "            dist = table[current_city, trial_city]\n",
    "            if (dist < closest_distance) and trial_city not in greedy_trip:\n",
    "                closest_distance = dist\n",
    "                closest_city = trial_city\n",
    "        greedy_trip[i+1] = closest_city \n",
    "\n",
    "    greedy_trip[-1] = greedy_trip[0]\n",
    "    return greedy_trip\n",
    "\n",
    "def greedy_opt_trip(trip, table, n_opt):\n",
    "    n = len(table)\n",
    "    opt_trip = trip.copy()\n",
    "    current_cost = get_cost(opt_trip, table)\n",
    "\n",
    "    for i in range(n_opt):\n",
    "        c1_idx = np.random.randint(1, n)\n",
    "        c2_idx = np.random.randint(1, n)\n",
    "        c1 = opt_trip[c1_idx]\n",
    "        c2 = opt_trip[c2_idx]\n",
    "\n",
    "        trial_trip = opt_trip.copy()\n",
    "        trial_trip[c1_idx], trial_trip[c2_idx] = c2, c1\n",
    "        trial_cost = get_cost(trial_trip, table)\n",
    "        if trial_cost < current_cost:\n",
    "            opt_trip = trial_trip\n",
    "            current_cost = trial_cost\n",
    "    return opt_trip"
   ]
  },
  {
   "cell_type": "code",
   "execution_count": 3,
   "metadata": {},
   "outputs": [
    {
     "name": "stdout",
     "output_type": "stream",
     "text": [
      "calculated 10 re sults for n = 50\n",
      "calculated 10 re sults for n = 100\n",
      "calculated 10 re sults for n = 250\n"
     ]
    },
    {
     "ename": "KeyboardInterrupt",
     "evalue": "",
     "output_type": "error",
     "traceback": [
      "\u001b[1;31m---------------------------------------------------------------------------\u001b[0m",
      "\u001b[1;31mKeyboardInterrupt\u001b[0m                         Traceback (most recent call last)",
      "\u001b[1;32mc:\\Users\\edvar\\programming\\Optimering\\oblig1_travelling_salesman.ipynb Cell 3\u001b[0m line \u001b[0;36m1\n\u001b[0;32m     <a href='vscode-notebook-cell:/c%3A/Users/edvar/programming/Optimering/oblig1_travelling_salesman.ipynb#W2sZmlsZQ%3D%3D?line=11'>12</a>\u001b[0m greedy_trip \u001b[39m=\u001b[39m greedy_solve_salesman(table)\n\u001b[0;32m     <a href='vscode-notebook-cell:/c%3A/Users/edvar/programming/Optimering/oblig1_travelling_salesman.ipynb#W2sZmlsZQ%3D%3D?line=13'>14</a>\u001b[0m opt_rand_trip \u001b[39m=\u001b[39m greedy_opt_trip(rand_trip, table, \u001b[39m1_000_000\u001b[39m)\n\u001b[1;32m---> <a href='vscode-notebook-cell:/c%3A/Users/edvar/programming/Optimering/oblig1_travelling_salesman.ipynb#W2sZmlsZQ%3D%3D?line=14'>15</a>\u001b[0m opt_greedy_trip \u001b[39m=\u001b[39m greedy_opt_trip(greedy_trip, table, \u001b[39m1_000_000\u001b[39;49m)\n\u001b[0;32m     <a href='vscode-notebook-cell:/c%3A/Users/edvar/programming/Optimering/oblig1_travelling_salesman.ipynb#W2sZmlsZQ%3D%3D?line=15'>16</a>\u001b[0m result_opt_rand\u001b[39m.\u001b[39mappend(get_cost(opt_rand_trip, table))\n\u001b[0;32m     <a href='vscode-notebook-cell:/c%3A/Users/edvar/programming/Optimering/oblig1_travelling_salesman.ipynb#W2sZmlsZQ%3D%3D?line=16'>17</a>\u001b[0m result_opt_greedy\u001b[39m.\u001b[39mappend(get_cost(opt_greedy_trip, table))\n",
      "\u001b[1;32mc:\\Users\\edvar\\programming\\Optimering\\oblig1_travelling_salesman.ipynb Cell 3\u001b[0m line \u001b[0;36m6\n\u001b[0;32m     <a href='vscode-notebook-cell:/c%3A/Users/edvar/programming/Optimering/oblig1_travelling_salesman.ipynb#W2sZmlsZQ%3D%3D?line=59'>60</a>\u001b[0m trial_trip \u001b[39m=\u001b[39m opt_trip\u001b[39m.\u001b[39mcopy()\n\u001b[0;32m     <a href='vscode-notebook-cell:/c%3A/Users/edvar/programming/Optimering/oblig1_travelling_salesman.ipynb#W2sZmlsZQ%3D%3D?line=60'>61</a>\u001b[0m trial_trip[c1_idx], trial_trip[c2_idx] \u001b[39m=\u001b[39m c2, c1\n\u001b[1;32m---> <a href='vscode-notebook-cell:/c%3A/Users/edvar/programming/Optimering/oblig1_travelling_salesman.ipynb#W2sZmlsZQ%3D%3D?line=61'>62</a>\u001b[0m trial_cost \u001b[39m=\u001b[39m get_cost(trial_trip, table)\n\u001b[0;32m     <a href='vscode-notebook-cell:/c%3A/Users/edvar/programming/Optimering/oblig1_travelling_salesman.ipynb#W2sZmlsZQ%3D%3D?line=62'>63</a>\u001b[0m \u001b[39mif\u001b[39;00m trial_cost \u001b[39m<\u001b[39m current_cost:\n\u001b[0;32m     <a href='vscode-notebook-cell:/c%3A/Users/edvar/programming/Optimering/oblig1_travelling_salesman.ipynb#W2sZmlsZQ%3D%3D?line=63'>64</a>\u001b[0m     opt_trip \u001b[39m=\u001b[39m trial_trip\n",
      "\u001b[1;32mc:\\Users\\edvar\\programming\\Optimering\\oblig1_travelling_salesman.ipynb Cell 3\u001b[0m line \u001b[0;36m1\n\u001b[0;32m     <a href='vscode-notebook-cell:/c%3A/Users/edvar/programming/Optimering/oblig1_travelling_salesman.ipynb#W2sZmlsZQ%3D%3D?line=12'>13</a>\u001b[0m \u001b[39mfor\u001b[39;00m i \u001b[39min\u001b[39;00m \u001b[39mrange\u001b[39m(\u001b[39mlen\u001b[39m(trip)\u001b[39m-\u001b[39m\u001b[39m1\u001b[39m):\n\u001b[0;32m     <a href='vscode-notebook-cell:/c%3A/Users/edvar/programming/Optimering/oblig1_travelling_salesman.ipynb#W2sZmlsZQ%3D%3D?line=13'>14</a>\u001b[0m     dist \u001b[39m=\u001b[39m table[trip[i], trip[i\u001b[39m+\u001b[39m\u001b[39m1\u001b[39m]]\n\u001b[1;32m---> <a href='vscode-notebook-cell:/c%3A/Users/edvar/programming/Optimering/oblig1_travelling_salesman.ipynb#W2sZmlsZQ%3D%3D?line=14'>15</a>\u001b[0m     cost \u001b[39m+\u001b[39m\u001b[39m=\u001b[39m dist\n\u001b[0;32m     <a href='vscode-notebook-cell:/c%3A/Users/edvar/programming/Optimering/oblig1_travelling_salesman.ipynb#W2sZmlsZQ%3D%3D?line=15'>16</a>\u001b[0m \u001b[39mreturn\u001b[39;00m cost\n",
      "\u001b[1;31mKeyboardInterrupt\u001b[0m: "
     ]
    }
   ],
   "source": [
    "n_list = (50, 100, 250, 500)\n",
    "dist_min = 1\n",
    "dist_max = 100\n",
    "\n",
    "result_opt_rand = []\n",
    "result_opt_greedy = []\n",
    "\n",
    "for n_cities in n_list:\n",
    "    table = create_table(n_cities, dist_min, dist_max)\n",
    "    for i in range(10):\n",
    "        rand_trip = random_solve_salesman(table)\n",
    "        greedy_trip = greedy_solve_salesman(table)\n",
    "        \n",
    "        opt_rand_trip = greedy_opt_trip(rand_trip, table, 1_000_000)\n",
    "        opt_greedy_trip = greedy_opt_trip(greedy_trip, table, 1_000_000)\n",
    "        result_opt_rand.append(get_cost(opt_rand_trip, table))\n",
    "        result_opt_greedy.append(get_cost(opt_greedy_trip, table))\n",
    "    print(f\"calculated 10 results for n = {n_cities}\")\n",
    "\n",
    "rand_50 = result_opt_rand[:50]\n",
    "rand_100 = result_opt_rand[50:100]\n",
    "rand_250 = result_opt_rand[100:250]\n",
    "rand_500 = result_opt_rand[250:]\n",
    "\n",
    "greedy_50 = result_opt_greedy[:50]\n",
    "greedy_100 = result_opt_greedy[50:100]\n",
    "greedy_250 = result_opt_greedy[100:250]\n",
    "greedy_500 = result_opt_greedy[250:]"
   ]
  },
  {
   "cell_type": "code",
   "execution_count": null,
   "metadata": {},
   "outputs": [
    {
     "data": {
      "text/plain": [
       "[<matplotlib.lines.Line2D at 0x22a2203a9a0>]"
      ]
     },
     "execution_count": 20,
     "metadata": {},
     "output_type": "execute_result"
    },
    {
     "data": {
      "image/png": "[encoded data removed]",
      "text/plain": [
       "<Figure size 640x480 with 1 Axes>"
      ]
     },
     "metadata": {},
     "output_type": "display_data"
    }
   ],
   "source": [
    "plt.plot(result_opt_rand)\n",
    "plt.plot(result_opt_greedy)"
   ]
  }
 ],
 "metadata": {
  "kernelspec": {
   "display_name": "Python 3",
   "language": "python",
   "name": "python3"
  },
  "language_info": {
   "codemirror_mode": {
    "name": "ipython",
    "version": 3
   },
   "file_extension": ".py",
   "mimetype": "text/x-python",
   "name": "python",
   "nbconvert_exporter": "python",
   "pygments_lexer": "ipython3",
   "version": "3.8.1"
  },
  "orig_nbformat": 4
 },
 "nbformat": 4,
 "nbformat_minor": 2
}
