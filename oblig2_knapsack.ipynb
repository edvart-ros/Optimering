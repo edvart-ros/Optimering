{
 "cells": [
  {
   "cell_type": "code",
   "execution_count": 5,
   "metadata": {},
   "outputs": [],
   "source": [
    "import numpy as np"
   ]
  },
  {
   "cell_type": "code",
   "execution_count": 6,
   "metadata": {},
   "outputs": [],
   "source": [
    "def calculate_value(values, knapsack):\n",
    "    return sum([knapsack[i]*values[i] for i in range(len(knapsack))])\n",
    "\n",
    "def calculate_weight(weights, knapsack):\n",
    "    return sum([knapsack[i]*weights[i] for i in range(len(knapsack))])\n",
    "\n",
    "def weight_sorting_solution(weights, capacity):\n",
    "    knapsack = [0]*len(weights)\n",
    "    inds = weights.argsort()\n",
    "    curr_weight = 0\n",
    "    for k in inds:\n",
    "        if (curr_weight + weights[k]) <= capacity:\n",
    "            knapsack[k] = 1\n",
    "            curr_weight += weights[k]\n",
    "    return knapsack"
   ]
  },
  {
   "cell_type": "markdown",
   "metadata": {},
   "source": [
    "## Phase 1 - initial solution\n",
    "here i sort the items in the pool by increasing weight. I add as many items into the knapsack as possible. The value of the items is not taken into consideration."
   ]
  },
  {
   "cell_type": "code",
   "execution_count": 7,
   "metadata": {},
   "outputs": [],
   "source": [
    "capacity = 30\n",
    "num_items = 30\n",
    "min_weight, max_weight = 1, 10\n",
    "min_value, max_value = 10, 50\n",
    "weights = np.random.randint(min_weight, max_weight + 1, num_items)\n",
    "values = np.random.randint(min_value, max_value + 1, num_items)"
   ]
  },
  {
   "cell_type": "code",
   "execution_count": 8,
   "metadata": {},
   "outputs": [
    {
     "name": "stdout",
     "output_type": "stream",
     "text": [
      "knapsack weight: 28\n",
      "knapsack value: 386\n"
     ]
    }
   ],
   "source": [
    "knapsack = weight_sorting_solution(weights, capacity)\n",
    "print(f\"knapsack weight: {calculate_weight(weights, knapsack)}\")\n",
    "print(f\"knapsack value: {calculate_value(values, knapsack)}\")"
   ]
  },
  {
   "cell_type": "markdown",
   "metadata": {},
   "source": [
    "# Phase 2\n",
    "To improve the starting solution, i will use \"Local Search: Greedy Improvement method: version 2\""
   ]
  },
  {
   "cell_type": "code",
   "execution_count": null,
   "metadata": {},
   "outputs": [],
   "source": [
    "old_value = calculate_value(values, knapsack)\n",
    "\n",
    "iters = 1_000_000\n",
    "for i in range(iters):\n",
    "    if (np.random.randint(0, 2)): #make swap\n",
    "        knapsack_item = np.random.choice(knapsack)\n",
    "        pool_item = np.random.randint(num_items)\n",
    "        while knapsack[pool_item]: #choose new item if it is already in the knapsack\n",
    "            pool_item = np.random.randint(num_items)\n",
    "\n",
    "\n",
    "        pass\n",
    "\n",
    "    else: #migrate\n",
    "        pass"
   ]
  }
 ],
 "metadata": {
  "kernelspec": {
   "display_name": "ml_vision",
   "language": "python",
   "name": "python3"
  },
  "language_info": {
   "codemirror_mode": {
    "name": "ipython",
    "version": 3
   },
   "file_extension": ".py",
   "mimetype": "text/x-python",
   "name": "python",
   "nbconvert_exporter": "python",
   "pygments_lexer": "ipython3",
   "version": "3.8.1"
  },
  "orig_nbformat": 4
 },
 "nbformat": 4,
 "nbformat_minor": 2
}
